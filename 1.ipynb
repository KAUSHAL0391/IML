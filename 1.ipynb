{
 "cells": [
  {
   "cell_type": "code",
   "execution_count": 2,
   "metadata": {},
   "outputs": [
    {
     "name": "stdout",
     "output_type": "stream",
     "text": [
      "Final Hypothesis: ['?', '?', '?', 'Strong', '?', '?']\n"
     ]
    }
   ],
   "source": [
    "import pandas as pd\n",
    "\n",
    "file_path = input(\"Enter the path to your CSV file: \")\n",
    "df = pd.read_csv(file_path)\n",
    "\n",
    "hypothesis = None\n",
    "\n",
    "for row in df.itertuples(index=False):\n",
    "    if hypothesis is None:\n",
    "        hypothesis = list(row)[:-1]\n",
    "    else:\n",
    "        for i in range(len(hypothesis)):\n",
    "            if hypothesis[i] != row[i]:\n",
    "                hypothesis[i] = '?'\n",
    "\n",
    "print(\"Final Hypothesis:\",hypothesis)"
   ]
  }
 ],
 "metadata": {
  "kernelspec": {
   "display_name": "Python 3",
   "language": "python",
   "name": "python3"
  },
  "language_info": {
   "codemirror_mode": {
    "name": "ipython",
    "version": 3
   },
   "file_extension": ".py",
   "mimetype": "text/x-python",
   "name": "python",
   "nbconvert_exporter": "python",
   "pygments_lexer": "ipython3",
   "version": "3.11.2"
  }
 },
 "nbformat": 4,
 "nbformat_minor": 2
}
