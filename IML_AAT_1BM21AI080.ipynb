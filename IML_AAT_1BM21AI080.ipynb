{
 "cells": [
  {
   "cell_type": "markdown",
   "metadata": {},
   "source": [
    "Q1 Co-relation and regression"
   ]
  },
  {
   "cell_type": "code",
   "execution_count": 1,
   "metadata": {},
   "outputs": [
    {
     "name": "stdout",
     "output_type": "stream",
     "text": [
      "0.145\n"
     ]
    }
   ],
   "source": [
    "import math as m\n",
    "\n",
    "def mean(data):\n",
    "    return sum(data) / len(data)\n",
    "\n",
    "def var(data):\n",
    "    sum_var = 0\n",
    "    for i in range(len(data)):\n",
    "        sum_var = sum_var + (data[i] - mean(data)) ** 2\n",
    "    return sum_var\n",
    "\n",
    "def cov(dt1, dt2):\n",
    "    sum_cov = 0\n",
    "    for i in range(len(dt1)):\n",
    "        sum_cov += (dt1[i] - mean(dt1)) * (dt2[i] - mean(dt2))\n",
    "    return sum_cov\n",
    "\n",
    "physics = [15.0, 12.0, 8.0, 8.0, 7.0, 7.0, 7.0, 6.0, 5.0, 3.0]\n",
    "history = [10.0, 25.0, 17.0, 11.0, 13.0, 17.0, 20.0, 13.0, 9.0, 15.0]\n",
    "\n",
    "mean_physics = mean(physics)\n",
    "mean_history = mean(history)\n",
    "\n",
    "var_physics = var(physics)\n",
    "var_history = var(history)\n",
    "\n",
    "covariance = cov(physics, history)\n",
    "std_physics = m.sqrt(var_physics)\n",
    "std_history = m.sqrt(var_history)\n",
    "\n",
    "r = covariance / (std_physics * std_history)\n",
    "print(round(r, 3))"
   ]
  },
  {
   "cell_type": "markdown",
   "metadata": {},
   "source": [
    "Q2 Document Classification"
   ]
  },
  {
   "cell_type": "code",
   "execution_count": 3,
   "metadata": {},
   "outputs": [
    {
     "ename": "ValueError",
     "evalue": "invalid literal for int() with base 10: '{\"topic\":\"electronics\",\"question\":\"What'",
     "output_type": "error",
     "traceback": [
      "\u001b[1;31m---------------------------------------------------------------------------\u001b[0m",
      "\u001b[1;31mValueError\u001b[0m                                Traceback (most recent call last)",
      "Cell \u001b[1;32mIn[3], line 51\u001b[0m\n\u001b[0;32m     47\u001b[0m     \u001b[38;5;28;01mreturn\u001b[39;00m xs, ys\n\u001b[0;32m     50\u001b[0m \u001b[38;5;28;01mif\u001b[39;00m \u001b[38;5;18m__name__\u001b[39m \u001b[38;5;241m==\u001b[39m \u001b[38;5;124m'\u001b[39m\u001b[38;5;124m__main__\u001b[39m\u001b[38;5;124m'\u001b[39m:\n\u001b[1;32m---> 51\u001b[0m     \u001b[43mrun\u001b[49m\u001b[43m(\u001b[49m\u001b[43m)\u001b[49m\n",
      "Cell \u001b[1;32mIn[3], line 21\u001b[0m, in \u001b[0;36mrun\u001b[1;34m()\u001b[0m\n\u001b[0;32m     19\u001b[0m \u001b[38;5;28;01mdef\u001b[39;00m \u001b[38;5;21mrun\u001b[39m():\n\u001b[0;32m     20\u001b[0m     known \u001b[38;5;241m=\u001b[39m [(\u001b[38;5;124m'\u001b[39m\u001b[38;5;124mBusiness means risk!\u001b[39m\u001b[38;5;124m'\u001b[39m, \u001b[38;5;241m1\u001b[39m), (\u001b[38;5;124m\"\u001b[39m\u001b[38;5;124mThis is a document\u001b[39m\u001b[38;5;124m\"\u001b[39m, \u001b[38;5;241m1\u001b[39m), (\u001b[38;5;124m\"\u001b[39m\u001b[38;5;124mthis is another document\u001b[39m\u001b[38;5;124m\"\u001b[39m, \u001b[38;5;241m4\u001b[39m), (\u001b[38;5;124m\"\u001b[39m\u001b[38;5;124mdocuments are seperated by newlines\u001b[39m\u001b[38;5;124m\"\u001b[39m, \u001b[38;5;241m8\u001b[39m)]\n\u001b[1;32m---> 21\u001b[0m     xs, ys \u001b[38;5;241m=\u001b[39m \u001b[43mload_data\u001b[49m\u001b[43m(\u001b[49m\u001b[38;5;124;43m'\u001b[39;49m\u001b[38;5;124;43mtrainingdata.txt\u001b[39;49m\u001b[38;5;124;43m'\u001b[39;49m\u001b[43m)\u001b[49m\n\u001b[0;32m     22\u001b[0m     mdl \u001b[38;5;241m=\u001b[39m make_model()\n\u001b[0;32m     23\u001b[0m     mdl\u001b[38;5;241m.\u001b[39mfit(xs, ys)\n",
      "Cell \u001b[1;32mIn[3], line 43\u001b[0m, in \u001b[0;36mload_data\u001b[1;34m(filename)\u001b[0m\n\u001b[0;32m     41\u001b[0m \u001b[38;5;28;01mif\u001b[39;00m idx \u001b[38;5;241m==\u001b[39m \u001b[38;5;241m-\u001b[39m\u001b[38;5;241m1\u001b[39m:\n\u001b[0;32m     42\u001b[0m     \u001b[38;5;28;01mraise\u001b[39;00m \u001b[38;5;167;01mValueError\u001b[39;00m(\u001b[38;5;124m'\u001b[39m\u001b[38;5;124minvalid input file\u001b[39m\u001b[38;5;124m'\u001b[39m)\n\u001b[1;32m---> 43\u001b[0m clazz \u001b[38;5;241m=\u001b[39m \u001b[38;5;28;43mint\u001b[39;49m\u001b[43m(\u001b[49m\u001b[43mline\u001b[49m\u001b[43m[\u001b[49m\u001b[43m:\u001b[49m\u001b[43midx\u001b[49m\u001b[43m]\u001b[49m\u001b[43m)\u001b[49m\n\u001b[0;32m     44\u001b[0m words \u001b[38;5;241m=\u001b[39m line[idx\u001b[38;5;241m+\u001b[39m\u001b[38;5;241m1\u001b[39m:]\n\u001b[0;32m     45\u001b[0m xs[i] \u001b[38;5;241m=\u001b[39m words\n",
      "\u001b[1;31mValueError\u001b[0m: invalid literal for int() with base 10: '{\"topic\":\"electronics\",\"question\":\"What'"
     ]
    }
   ],
   "source": [
    "import sys\n",
    "from sklearn.feature_extraction import text\n",
    "from sklearn import pipeline\n",
    "from sklearn import linear_model\n",
    "import numpy\n",
    "\n",
    "\n",
    "def make_model():\n",
    "    clf = pipeline.Pipeline([\n",
    "        ('vect',\n",
    "         text.TfidfVectorizer(stop_words='english', ngram_range=(1, 1),\n",
    "                              min_df=4, strip_accents='ascii', lowercase=True)),\n",
    "        ('clf',\n",
    "         linear_model.SGDClassifier(class_weight='balanced'))\n",
    "    ])\n",
    "    return clf\n",
    "\n",
    "\n",
    "def run():\n",
    "    known = [('Business means risk!', 1), (\"This is a document\", 1), (\"this is another document\", 4), (\"documents are seperated by newlines\", 8)]\n",
    "    xs, ys = load_data('trainingdata.txt')\n",
    "    mdl = make_model()\n",
    "    mdl.fit(xs, ys)\n",
    "    txs = list(line for line in sys.stdin)[1:]\n",
    "    for y, x in zip(mdl.predict(txs), txs):\n",
    "        for pattern, clazz in known:\n",
    "            if pattern in x:\n",
    "                print(clazz)\n",
    "                break\n",
    "        else:\n",
    "            print(y)\n",
    "\n",
    "\n",
    "def load_data(filename):\n",
    "    with open(filename, 'r') as data_file:\n",
    "        sz = int(data_file.readline())\n",
    "        xs = numpy.zeros(sz, dtype=numpy.dtype(object))\n",
    "        ys = numpy.zeros(sz, dtype=numpy.dtype(int))\n",
    "        for i, line in enumerate(data_file):\n",
    "            idx = line.index(' ')\n",
    "            if idx == -1:\n",
    "                raise ValueError('invalid input file')\n",
    "            clazz = int(line[:idx])\n",
    "            words = line[idx+1:]\n",
    "            xs[i] = words\n",
    "            ys[i] = clazz\n",
    "    return xs, ys\n",
    "\n",
    "\n",
    "if __name__ == '__main__':\n",
    "    run()"
   ]
  },
  {
   "cell_type": "markdown",
   "metadata": {},
   "source": [
    "Q3 Stack Exchange Question"
   ]
  },
  {
   "cell_type": "code",
   "execution_count": 4,
   "metadata": {},
   "outputs": [
    {
     "ename": "FileNotFoundError",
     "evalue": "[Errno 2] No such file or directory: 'training.json'",
     "output_type": "error",
     "traceback": [
      "\u001b[1;31m---------------------------------------------------------------------------\u001b[0m",
      "\u001b[1;31mFileNotFoundError\u001b[0m                         Traceback (most recent call last)",
      "Cell \u001b[1;32mIn[4], line 5\u001b[0m\n\u001b[0;32m      2\u001b[0m \u001b[38;5;28;01mfrom\u001b[39;00m \u001b[38;5;21;01msklearn\u001b[39;00m\u001b[38;5;21;01m.\u001b[39;00m\u001b[38;5;21;01mmodel_selection\u001b[39;00m \u001b[38;5;28;01mimport\u001b[39;00m train_test_split\n\u001b[0;32m      3\u001b[0m \u001b[38;5;28;01mfrom\u001b[39;00m \u001b[38;5;21;01msklearn\u001b[39;00m\u001b[38;5;21;01m.\u001b[39;00m\u001b[38;5;21;01mnaive_bayes\u001b[39;00m \u001b[38;5;28;01mimport\u001b[39;00m MultinomialNB\n\u001b[1;32m----> 5\u001b[0m \u001b[38;5;28;01mwith\u001b[39;00m \u001b[38;5;28;43mopen\u001b[39;49m\u001b[43m(\u001b[49m\u001b[38;5;124;43m'\u001b[39;49m\u001b[38;5;124;43mtraining.json\u001b[39;49m\u001b[38;5;124;43m'\u001b[39;49m\u001b[43m)\u001b[49m \u001b[38;5;28;01mas\u001b[39;00m file:\n\u001b[0;32m      6\u001b[0m     lines \u001b[38;5;241m=\u001b[39m file\u001b[38;5;241m.\u001b[39mreadlines()\n\u001b[0;32m      7\u001b[0m lines \u001b[38;5;241m=\u001b[39m \u001b[38;5;28miter\u001b[39m(lines)\n",
      "File \u001b[1;32mc:\\Users\\Kaushal\\AppData\\Local\\Programs\\Python\\Python311\\Lib\\site-packages\\IPython\\core\\interactiveshell.py:282\u001b[0m, in \u001b[0;36m_modified_open\u001b[1;34m(file, *args, **kwargs)\u001b[0m\n\u001b[0;32m    275\u001b[0m \u001b[38;5;28;01mif\u001b[39;00m file \u001b[38;5;129;01min\u001b[39;00m {\u001b[38;5;241m0\u001b[39m, \u001b[38;5;241m1\u001b[39m, \u001b[38;5;241m2\u001b[39m}:\n\u001b[0;32m    276\u001b[0m     \u001b[38;5;28;01mraise\u001b[39;00m \u001b[38;5;167;01mValueError\u001b[39;00m(\n\u001b[0;32m    277\u001b[0m         \u001b[38;5;124mf\u001b[39m\u001b[38;5;124m\"\u001b[39m\u001b[38;5;124mIPython won\u001b[39m\u001b[38;5;124m'\u001b[39m\u001b[38;5;124mt let you open fd=\u001b[39m\u001b[38;5;132;01m{\u001b[39;00mfile\u001b[38;5;132;01m}\u001b[39;00m\u001b[38;5;124m by default \u001b[39m\u001b[38;5;124m\"\u001b[39m\n\u001b[0;32m    278\u001b[0m         \u001b[38;5;124m\"\u001b[39m\u001b[38;5;124mas it is likely to crash IPython. If you know what you are doing, \u001b[39m\u001b[38;5;124m\"\u001b[39m\n\u001b[0;32m    279\u001b[0m         \u001b[38;5;124m\"\u001b[39m\u001b[38;5;124myou can use builtins\u001b[39m\u001b[38;5;124m'\u001b[39m\u001b[38;5;124m open.\u001b[39m\u001b[38;5;124m\"\u001b[39m\n\u001b[0;32m    280\u001b[0m     )\n\u001b[1;32m--> 282\u001b[0m \u001b[38;5;28;01mreturn\u001b[39;00m \u001b[43mio_open\u001b[49m\u001b[43m(\u001b[49m\u001b[43mfile\u001b[49m\u001b[43m,\u001b[49m\u001b[43m \u001b[49m\u001b[38;5;241;43m*\u001b[39;49m\u001b[43margs\u001b[49m\u001b[43m,\u001b[49m\u001b[43m \u001b[49m\u001b[38;5;241;43m*\u001b[39;49m\u001b[38;5;241;43m*\u001b[39;49m\u001b[43mkwargs\u001b[49m\u001b[43m)\u001b[49m\n",
      "\u001b[1;31mFileNotFoundError\u001b[0m: [Errno 2] No such file or directory: 'training.json'"
     ]
    }
   ],
   "source": [
    "from sklearn.feature_extraction.text import TfidfVectorizer\n",
    "from sklearn.model_selection import train_test_split\n",
    "from sklearn.naive_bayes import MultinomialNB\n",
    "\n",
    "with open('training.json') as file:\n",
    "    lines = file.readlines()\n",
    "lines = iter(lines)\n",
    "\n",
    "N = int(next(lines))\n",
    "\n",
    "X_train, classes = [], []\n",
    "for _ in range(N):\n",
    "    line = next(lines)\n",
    "    d = eval(line)\n",
    "    X_train.append(d['question'])\n",
    "    classes.append(d['topic'].strip())\n",
    "\n",
    "classes_to_ix = {c: i for i, c in enumerate(set(classes))}\n",
    "ix_to_classes = {i: c for c, i in classes_to_ix.items()}\n",
    "y_train = [classes_to_ix[c] for c in classes]\n",
    "\n",
    "vectorizer = TfidfVectorizer(sublinear_tf=True, max_df=0.5, stop_words=\"english\")\n",
    "X_train = vectorizer.fit_transform(X_train)\n",
    "\n",
    "clf = MultinomialNB(alpha=0.1)\n",
    "clf.fit(X_train, y_train)\n",
    "\n",
    "P = int(input())\n",
    "X_pred = []\n",
    "for _ in range(P):\n",
    "    line = input()\n",
    "    d = eval(line)\n",
    "    X_pred.append(d['question'])\n",
    "    \n",
    "X_pred = vectorizer.transform(X_pred)\n",
    "y_pred = [ix_to_classes[i] for i in clf.predict(X_pred)]\n",
    "print('\\n'.join(y_pred))"
   ]
  },
  {
   "cell_type": "markdown",
   "metadata": {},
   "source": [
    "Q4 Stock Predictions"
   ]
  },
  {
   "cell_type": "code",
   "execution_count": 5,
   "metadata": {},
   "outputs": [
    {
     "ename": "ValueError",
     "evalue": "could not convert string to float: 'iStreet'",
     "output_type": "error",
     "traceback": [
      "\u001b[1;31m---------------------------------------------------------------------------\u001b[0m",
      "\u001b[1;31mValueError\u001b[0m                                Traceback (most recent call last)",
      "Cell \u001b[1;32mIn[5], line 48\u001b[0m\n\u001b[0;32m     44\u001b[0m         \u001b[38;5;28mprint\u001b[39m(\u001b[38;5;124m'\u001b[39m\u001b[38;5;124m \u001b[39m\u001b[38;5;124m'\u001b[39m\u001b[38;5;241m.\u001b[39mjoin(r))\n\u001b[0;32m     47\u001b[0m \u001b[38;5;28;01mif\u001b[39;00m \u001b[38;5;18m__name__\u001b[39m \u001b[38;5;241m==\u001b[39m \u001b[38;5;124m'\u001b[39m\u001b[38;5;124m__main__\u001b[39m\u001b[38;5;124m'\u001b[39m:\n\u001b[1;32m---> 48\u001b[0m     m, k, d \u001b[38;5;241m=\u001b[39m \u001b[43m[\u001b[49m\u001b[38;5;28;43mfloat\u001b[39;49m\u001b[43m(\u001b[49m\u001b[43mi\u001b[49m\u001b[43m)\u001b[49m\u001b[43m \u001b[49m\u001b[38;5;28;43;01mfor\u001b[39;49;00m\u001b[43m \u001b[49m\u001b[43mi\u001b[49m\u001b[43m \u001b[49m\u001b[38;5;129;43;01min\u001b[39;49;00m\u001b[43m \u001b[49m\u001b[38;5;28;43minput\u001b[39;49m\u001b[43m(\u001b[49m\u001b[43m)\u001b[49m\u001b[38;5;241;43m.\u001b[39;49m\u001b[43mstrip\u001b[49m\u001b[43m(\u001b[49m\u001b[43m)\u001b[49m\u001b[38;5;241;43m.\u001b[39;49m\u001b[43msplit\u001b[49m\u001b[43m(\u001b[49m\u001b[43m)\u001b[49m\u001b[43m]\u001b[49m\n\u001b[0;32m     49\u001b[0m     k \u001b[38;5;241m=\u001b[39m \u001b[38;5;28mint\u001b[39m(k)\n\u001b[0;32m     50\u001b[0m     d \u001b[38;5;241m=\u001b[39m \u001b[38;5;28mint\u001b[39m(d)\n",
      "Cell \u001b[1;32mIn[5], line 48\u001b[0m, in \u001b[0;36m<listcomp>\u001b[1;34m(.0)\u001b[0m\n\u001b[0;32m     44\u001b[0m         \u001b[38;5;28mprint\u001b[39m(\u001b[38;5;124m'\u001b[39m\u001b[38;5;124m \u001b[39m\u001b[38;5;124m'\u001b[39m\u001b[38;5;241m.\u001b[39mjoin(r))\n\u001b[0;32m     47\u001b[0m \u001b[38;5;28;01mif\u001b[39;00m \u001b[38;5;18m__name__\u001b[39m \u001b[38;5;241m==\u001b[39m \u001b[38;5;124m'\u001b[39m\u001b[38;5;124m__main__\u001b[39m\u001b[38;5;124m'\u001b[39m:\n\u001b[1;32m---> 48\u001b[0m     m, k, d \u001b[38;5;241m=\u001b[39m [\u001b[38;5;28;43mfloat\u001b[39;49m\u001b[43m(\u001b[49m\u001b[43mi\u001b[49m\u001b[43m)\u001b[49m \u001b[38;5;28;01mfor\u001b[39;00m i \u001b[38;5;129;01min\u001b[39;00m \u001b[38;5;28minput\u001b[39m()\u001b[38;5;241m.\u001b[39mstrip()\u001b[38;5;241m.\u001b[39msplit()]\n\u001b[0;32m     49\u001b[0m     k \u001b[38;5;241m=\u001b[39m \u001b[38;5;28mint\u001b[39m(k)\n\u001b[0;32m     50\u001b[0m     d \u001b[38;5;241m=\u001b[39m \u001b[38;5;28mint\u001b[39m(d)\n",
      "\u001b[1;31mValueError\u001b[0m: could not convert string to float: 'iStreet'"
     ]
    }
   ],
   "source": [
    "from __future__ import division\n",
    "from math import sqrt\n",
    "from heapq import heappush, heappop\n",
    "\n",
    "def printTransactions(money, k, d, names, owned, prices):\n",
    "    def mean(nums):\n",
    "        return sum(nums) / len(nums)\n",
    "\n",
    "    def sd(nums):\n",
    "        average = mean(nums)\n",
    "        return sqrt(sum([(x - average) ** 2 for x in nums]) / len(nums))\n",
    "\n",
    "    def info(price):\n",
    "        cc, sigma, acc = 0, 0.0, 0\n",
    "        for i in range(1, 5): \n",
    "            if price[i] > price[i - 1]: cc += 1\n",
    "        sigma = sd(price)\n",
    "        mu = mean(price)\n",
    "        c1, c2, c3 = mean(price[0:3]), mean(price[1:4]), mean(price[2:5])\n",
    "        \n",
    "        return (price[-1] - price[-2]) / price[-2]\n",
    "    \n",
    "    infos = map(info, prices)\n",
    "    res = []\n",
    "    \n",
    "    drop = []\n",
    "    \n",
    "    for i in range(k):\n",
    "        cur_info = info(prices[i])\n",
    "        if cur_info > 0 and owned[i] > 0:\n",
    "            res.append((names[i], 'SELL', str(owned[i])))\n",
    "        elif cur_info < 0:\n",
    "            heappush(drop, (cur_info, i, names[i]))\n",
    "    \n",
    "    while money > 0.0 and drop:\n",
    "        rate, idx, n = heappop(drop)\n",
    "        amount = int(money / prices[idx][-1])\n",
    "        if amount  > 0:\n",
    "            res.append((n, 'BUY', str(amount)))\n",
    "            money -= amount * prices[idx][-1]\n",
    "    \n",
    "    print(len(res))\n",
    "    for r in res:\n",
    "        print(' '.join(r))\n",
    "    \n",
    "\n",
    "if __name__ == '__main__':\n",
    "    m, k, d = [float(i) for i in input().strip().split()]\n",
    "    k = int(k)\n",
    "    d = int(d)\n",
    "    names = []\n",
    "    owned = []\n",
    "    prices = []\n",
    "    for data in range(k):\n",
    "        temp = input().strip().split()\n",
    "        names.append(temp[0])\n",
    "        owned.append(int(temp[1]))\n",
    "        prices.append([float(i) for i in temp[2:7]])\n",
    "\n",
    "    printTransactions(m, k, d, names, owned, prices)"
   ]
  }
 ],
 "metadata": {
  "kernelspec": {
   "display_name": "Python 3",
   "language": "python",
   "name": "python3"
  },
  "language_info": {
   "codemirror_mode": {
    "name": "ipython",
    "version": 3
   },
   "file_extension": ".py",
   "mimetype": "text/x-python",
   "name": "python",
   "nbconvert_exporter": "python",
   "pygments_lexer": "ipython3",
   "version": "3.11.2"
  }
 },
 "nbformat": 4,
 "nbformat_minor": 2
}
